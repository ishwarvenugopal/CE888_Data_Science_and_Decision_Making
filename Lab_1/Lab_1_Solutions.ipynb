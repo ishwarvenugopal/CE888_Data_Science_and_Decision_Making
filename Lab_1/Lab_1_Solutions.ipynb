{
  "nbformat": 4,
  "nbformat_minor": 0,
  "metadata": {
    "colab": {
      "name": "Lab_1_Solutions.ipynb",
      "provenance": [],
      "collapsed_sections": [],
      "authorship_tag": "ABX9TyMff/jZP74vXqlXHMdpOEU3",
      "include_colab_link": true
    },
    "kernelspec": {
      "name": "python3",
      "display_name": "Python 3"
    }
  },
  "cells": [
    {
      "cell_type": "markdown",
      "metadata": {
        "id": "view-in-github",
        "colab_type": "text"
      },
      "source": [
        "<a href=\"https://colab.research.google.com/github/ishwarvenugopal/CE888_Data_Science_and_Decision_Making/blob/master/Lab_1/Lab_1_Solutions.ipynb\" target=\"_parent\"><img src=\"https://colab.research.google.com/assets/colab-badge.svg\" alt=\"Open In Colab\"/></a>"
      ]
    },
    {
      "cell_type": "markdown",
      "metadata": {
        "id": "O0B1sY7p3kNF",
        "colab_type": "text"
      },
      "source": [
        "## 1. Create a (4 x 2) integer array and print it's attributes"
      ]
    },
    {
      "cell_type": "code",
      "metadata": {
        "id": "6JM3M9fe3qX8",
        "colab_type": "code",
        "colab": {
          "base_uri": "https://localhost:8080/",
          "height": 136
        },
        "outputId": "8a4c8554-034d-4485-a794-e52e15a1b2b3"
      },
      "source": [
        "import numpy as np\n",
        "a = np.array([[ 0, 1],\n",
        "              [10,11],\n",
        "              [20,21],\n",
        "              [30,31]])\n",
        "print(a)\n",
        "print(a.shape)\n",
        "print(a.size)\n",
        "print(a.ndim)"
      ],
      "execution_count": 2,
      "outputs": [
        {
          "output_type": "stream",
          "text": [
            "[[ 0  1]\n",
            " [10 11]\n",
            " [20 21]\n",
            " [30 31]]\n",
            "(4, 2)\n",
            "8\n",
            "2\n"
          ],
          "name": "stdout"
        }
      ]
    },
    {
      "cell_type": "markdown",
      "metadata": {
        "id": "3bUpuDSr41-8",
        "colab_type": "text"
      },
      "source": [
        "## 2.Create an array of dimension (1,10) and sort it in ascending and descending order"
      ]
    },
    {
      "cell_type": "code",
      "metadata": {
        "id": "gkv7tSXQ493z",
        "colab_type": "code",
        "colab": {
          "base_uri": "https://localhost:8080/",
          "height": 68
        },
        "outputId": "ba53e3ea-d8c3-4b1b-9f74-92a066a02410"
      },
      "source": [
        "b=np.array([1,5,2,6,3,7,4,10,9,8])\n",
        "print(b)\n",
        "sorted_array=np.sort(b)\n",
        "print(sorted_array)\n",
        "reverse_array = sorted_array[::-1]\n",
        "print(reverse_array)"
      ],
      "execution_count": 13,
      "outputs": [
        {
          "output_type": "stream",
          "text": [
            "[ 1  5  2  6  3  7  4 10  9  8]\n",
            "[ 1  2  3  4  5  6  7  8  9 10]\n",
            "[10  9  8  7  6  5  4  3  2  1]\n"
          ],
          "name": "stdout"
        }
      ]
    },
    {
      "cell_type": "markdown",
      "metadata": {
        "id": "7aE9hBst7UA0",
        "colab_type": "text"
      },
      "source": [
        "## 3.Convert an 1D array [1 2 3 4 5 6 7 8 9] to 2D array [[1 2 3], [4 5 6], [7 8 9]]"
      ]
    },
    {
      "cell_type": "code",
      "metadata": {
        "id": "jB-QpJnN7Ymy",
        "colab_type": "code",
        "colab": {
          "base_uri": "https://localhost:8080/",
          "height": 85
        },
        "outputId": "d815320d-76ac-4f5b-9ab8-d4d16cfa73ab"
      },
      "source": [
        "c=np.array([1,2,3,4,5,6,7,8,9])\n",
        "print(c)\n",
        "new_array = np.reshape(c, (3,3))\n",
        "print(new_array)\n"
      ],
      "execution_count": 22,
      "outputs": [
        {
          "output_type": "stream",
          "text": [
            "[1 2 3 4 5 6 7 8 9]\n",
            "[[1 2 3]\n",
            " [4 5 6]\n",
            " [7 8 9]]\n"
          ],
          "name": "stdout"
        }
      ]
    },
    {
      "cell_type": "markdown",
      "metadata": {
        "id": "i32aJs3i8NKT",
        "colab_type": "text"
      },
      "source": [
        "## 4.Stack two arrays of any size horizontally and vertically"
      ]
    },
    {
      "cell_type": "code",
      "metadata": {
        "id": "Fzl_Za758R9p",
        "colab_type": "code",
        "colab": {
          "base_uri": "https://localhost:8080/",
          "height": 187
        },
        "outputId": "dd4cae2b-a7e3-4983-fde8-7e8c1ed812e3"
      },
      "source": [
        "a1=np.array([[1,2],[3,4]])\n",
        "print(a1)\n",
        "a2=np.array([[6,7],[8,9]])\n",
        "print(a2)\n",
        "print(np.hstack((a1,a2)))\n",
        "print(np.vstack((a1,a2)))"
      ],
      "execution_count": 31,
      "outputs": [
        {
          "output_type": "stream",
          "text": [
            "[[1 2]\n",
            " [3 4]]\n",
            "[[6 7]\n",
            " [8 9]]\n",
            "[[1 2 6 7]\n",
            " [3 4 8 9]]\n",
            "[[1 2]\n",
            " [3 4]\n",
            " [6 7]\n",
            " [8 9]]\n"
          ],
          "name": "stdout"
        }
      ]
    },
    {
      "cell_type": "markdown",
      "metadata": {
        "id": "5MK7tYJU9dwU",
        "colab_type": "text"
      },
      "source": [
        "## 5.Create two array of same size and find commom elements"
      ]
    },
    {
      "cell_type": "code",
      "metadata": {
        "id": "CQ2oSrQB9i0K",
        "colab_type": "code",
        "colab": {
          "base_uri": "https://localhost:8080/",
          "height": 68
        },
        "outputId": "c2815be3-800a-4384-ac90-ace1d1c8bbcf"
      },
      "source": [
        "a1=np.array([1,2,3,4])\n",
        "print(a1)\n",
        "a2=np.array([6,7,4,9])\n",
        "print(a2)\n",
        "common_elements = np.intersect1d(a1,a2)\n",
        "print(common_elements)"
      ],
      "execution_count": 34,
      "outputs": [
        {
          "output_type": "stream",
          "text": [
            "[1 2 3 4]\n",
            "[6 7 4 9]\n",
            "[4]\n"
          ],
          "name": "stdout"
        }
      ]
    },
    {
      "cell_type": "markdown",
      "metadata": {
        "id": "1Fg3zYW1-P1E",
        "colab_type": "text"
      },
      "source": [
        "## 6.Create a 2D array of 5 by 5 and find the min and max values from each row and each column"
      ]
    },
    {
      "cell_type": "code",
      "metadata": {
        "id": "1TDu7j1h-UOe",
        "colab_type": "code",
        "colab": {
          "base_uri": "https://localhost:8080/",
          "height": 272
        },
        "outputId": "6efeaa3e-9086-46af-972d-885256b8f5ff"
      },
      "source": [
        "a6=np.array([[1,2,3,4,5],[11,12,13,14,15],[21,22,23,24,25],[31,32,33,34,35],[41,42,43,44,45]])\n",
        "print(a6)\n",
        "i=1\n",
        "for row in a6:\n",
        "  print(\"Row: \",i,\", Min: \",min(row),\", Max: \",max(row))\n",
        "  i+=1\n",
        "i=1\n",
        "for column in a6.T:\n",
        "  print(\"Column: \",i,\", Min: \",min(column),\", Max: \",max(column))\n",
        "  i+=1"
      ],
      "execution_count": 41,
      "outputs": [
        {
          "output_type": "stream",
          "text": [
            "[[ 1  2  3  4  5]\n",
            " [11 12 13 14 15]\n",
            " [21 22 23 24 25]\n",
            " [31 32 33 34 35]\n",
            " [41 42 43 44 45]]\n",
            "Row:  1 , Min:  1 , Max:  5\n",
            "Row:  2 , Min:  11 , Max:  15\n",
            "Row:  3 , Min:  21 , Max:  25\n",
            "Row:  4 , Min:  31 , Max:  35\n",
            "Row:  5 , Min:  41 , Max:  45\n",
            "Column:  1 , Min:  1 , Max:  41\n",
            "Column:  2 , Min:  2 , Max:  42\n",
            "Column:  3 , Min:  3 , Max:  43\n",
            "Column:  4 , Min:  4 , Max:  44\n",
            "Column:  5 , Min:  5 , Max:  45\n"
          ],
          "name": "stdout"
        }
      ]
    },
    {
      "cell_type": "markdown",
      "metadata": {
        "id": "_K8WMK7y_6HY",
        "colab_type": "text"
      },
      "source": [
        "## 7.Create an array of size 100 and compute the mean, median, standard deviation."
      ]
    },
    {
      "cell_type": "code",
      "metadata": {
        "id": "VawQDk2lAAJW",
        "colab_type": "code",
        "colab": {
          "base_uri": "https://localhost:8080/",
          "height": 153
        },
        "outputId": "12779f26-dfb9-45d4-c585-972373916624"
      },
      "source": [
        "a7=np.arange(100)\n",
        "print(a7)\n",
        "print(\"Mean: \",np.mean(a7))\n",
        "print(\"Median: \",np.median(a7))\n",
        "print(\"Standard Deviation :\",np.std(a7))"
      ],
      "execution_count": 44,
      "outputs": [
        {
          "output_type": "stream",
          "text": [
            "[ 0  1  2  3  4  5  6  7  8  9 10 11 12 13 14 15 16 17 18 19 20 21 22 23\n",
            " 24 25 26 27 28 29 30 31 32 33 34 35 36 37 38 39 40 41 42 43 44 45 46 47\n",
            " 48 49 50 51 52 53 54 55 56 57 58 59 60 61 62 63 64 65 66 67 68 69 70 71\n",
            " 72 73 74 75 76 77 78 79 80 81 82 83 84 85 86 87 88 89 90 91 92 93 94 95\n",
            " 96 97 98 99]\n",
            "Mean:  49.5\n",
            "Median:  49.5\n",
            "Standard Deviation : 28.86607004772212\n"
          ],
          "name": "stdout"
        }
      ]
    },
    {
      "cell_type": "markdown",
      "metadata": {
        "id": "FjRhKAinA6oR",
        "colab_type": "text"
      },
      "source": [
        "## 8. Normalize a 5x5 random matrix"
      ]
    },
    {
      "cell_type": "code",
      "metadata": {
        "id": "IZ-kvvgLA9gQ",
        "colab_type": "code",
        "colab": {
          "base_uri": "https://localhost:8080/",
          "height": 204
        },
        "outputId": "20226fce-82db-4423-f2ef-f5d512afaf05"
      },
      "source": [
        "a8=np.random.rand(5,5)\n",
        "print(a8)\n",
        "a8=(a8-np.min(a8))/(np.max(a8)-np.min(a8))\n",
        "print(\"Normalised matrix: \")\n",
        "print(a8)\n"
      ],
      "execution_count": 50,
      "outputs": [
        {
          "output_type": "stream",
          "text": [
            "[[0.58290268 0.66967359 0.43581908 0.1881975  0.00927866]\n",
            " [0.57534234 0.99787183 0.823509   0.25205166 0.15080324]\n",
            " [0.94149695 0.66402503 0.7257422  0.28982795 0.67826286]\n",
            " [0.02242967 0.87348832 0.88433025 0.20331203 0.8870356 ]\n",
            " [0.21334159 0.68280076 0.80945073 0.07184229 0.37177646]]\n",
            "Normalised matrix: \n",
            "[[0.58024275 0.66801486 0.43146204 0.18098329 0.        ]\n",
            " [0.57259518 1.         0.8236253  0.24557422 0.14315755]\n",
            " [0.94297465 0.66230113 0.72473041 0.2837864  0.67670324]\n",
            " [0.01330275 0.87418129 0.88514833 0.19627222 0.88788489]\n",
            " [0.2064175  0.6812935  0.80940482 0.06328552 0.36668046]]\n"
          ],
          "name": "stdout"
        }
      ]
    },
    {
      "cell_type": "markdown",
      "metadata": {
        "id": "juPkZrZBD4o-",
        "colab_type": "text"
      },
      "source": [
        "## 9.Consider an array of dimension (4,4,3), how to mulitply it by an array with dimensions (4,4)?"
      ]
    },
    {
      "cell_type": "code",
      "metadata": {
        "id": "4iGxgxU6D9Xd",
        "colab_type": "code",
        "colab": {
          "base_uri": "https://localhost:8080/",
          "height": 748
        },
        "outputId": "9bbb8708-2f44-424c-9981-4811bdd22320"
      },
      "source": [
        "a9_1=np.random.random((4,4,3))\n",
        "print(a9_1)\n",
        "a9_2=np.random.random((4,4))\n",
        "print(a9_2)\n",
        "\n",
        "print(\"Multiplied product:\")\n",
        "a9_1 * a9_2[:,:,None]"
      ],
      "execution_count": 61,
      "outputs": [
        {
          "output_type": "stream",
          "text": [
            "[[[0.22866497 0.59752281 0.92929467]\n",
            "  [0.96773869 0.19899165 0.64942993]\n",
            "  [0.0755331  0.42709183 0.35692116]\n",
            "  [0.75380525 0.48046316 0.71419353]]\n",
            "\n",
            " [[0.24320325 0.81404452 0.00721742]\n",
            "  [0.52698082 0.46772192 0.66104083]\n",
            "  [0.62809523 0.5453068  0.2772913 ]\n",
            "  [0.10321265 0.84724269 0.96207521]]\n",
            "\n",
            " [[0.78484736 0.78275794 0.37621517]\n",
            "  [0.24176381 0.53137143 0.40830737]\n",
            "  [0.04094232 0.7940287  0.36586196]\n",
            "  [0.0097044  0.30436062 0.90617644]]\n",
            "\n",
            " [[0.65109004 0.26506462 0.97461716]\n",
            "  [0.63966689 0.36654694 0.34509984]\n",
            "  [0.90417477 0.30399235 0.90760534]\n",
            "  [0.12744785 0.2311165  0.47894535]]]\n",
            "[[0.49442597 0.680115   0.6400935  0.47694032]\n",
            " [0.3776834  0.42742559 0.4922067  0.98636848]\n",
            " [0.00601812 0.96604126 0.34033905 0.56391719]\n",
            " [0.43384454 0.54942003 0.00494737 0.23986346]]\n",
            "Multiplied product:\n"
          ],
          "name": "stdout"
        },
        {
          "output_type": "execute_result",
          "data": {
            "text/plain": [
              "array([[[0.1130579 , 0.2954308 , 0.45946742],\n",
              "        [0.6581736 , 0.13533721, 0.44168703],\n",
              "        [0.04834825, 0.2733787 , 0.22846291],\n",
              "        [0.35952011, 0.22915225, 0.34062769]],\n",
              "\n",
              "       [[0.09185383, 0.3074511 , 0.0027259 ],\n",
              "        [0.22524509, 0.19991632, 0.28254577],\n",
              "        [0.30915268, 0.26840366, 0.13648464],\n",
              "        [0.1018057 , 0.83569349, 0.94896066]],\n",
              "\n",
              "       [[0.0047233 , 0.00471073, 0.00226411],\n",
              "        [0.23355381, 0.51332672, 0.39444176],\n",
              "        [0.01393427, 0.27023897, 0.12451711],\n",
              "        [0.00547248, 0.17163419, 0.51100847]],\n",
              "\n",
              "       [[0.28247186, 0.11499684, 0.42283234],\n",
              "        [0.3514458 , 0.20138823, 0.18960477],\n",
              "        [0.00447329, 0.00150396, 0.00449026],\n",
              "        [0.03057008, 0.0554364 , 0.11488149]]])"
            ]
          },
          "metadata": {
            "tags": []
          },
          "execution_count": 61
        }
      ]
    }
  ]
}