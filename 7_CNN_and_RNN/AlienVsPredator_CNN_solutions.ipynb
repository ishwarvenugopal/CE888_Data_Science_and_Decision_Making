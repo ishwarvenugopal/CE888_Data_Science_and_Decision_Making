{
  "nbformat": 4,
  "nbformat_minor": 0,
  "metadata": {
    "colab": {
      "name": "Exercise_2_solutions.ipynb",
      "provenance": [],
      "collapsed_sections": [],
      "authorship_tag": "ABX9TyNTgzv90DUTR+nDJv/9bply",
      "include_colab_link": true
    },
    "kernelspec": {
      "name": "python3",
      "display_name": "Python 3"
    },
    "accelerator": "GPU"
  },
  "cells": [
    {
      "cell_type": "markdown",
      "metadata": {
        "id": "view-in-github",
        "colab_type": "text"
      },
      "source": [
        "<a href=\"https://colab.research.google.com/github/ishwarvenugopal/CE888_Data_Science_and_Decision_Making/blob/master/Lab_7/AlienVsPredator_CNN_solutions.ipynb\" target=\"_parent\"><img src=\"https://colab.research.google.com/assets/colab-badge.svg\" alt=\"Open In Colab\"/></a>"
      ]
    },
    {
      "cell_type": "markdown",
      "metadata": {
        "id": "xpxGoDxCQI8i",
        "colab_type": "text"
      },
      "source": [
        "### Getting the data from Kaggle"
      ]
    },
    {
      "cell_type": "code",
      "metadata": {
        "id": "PZgzEklXJ3F9",
        "colab_type": "code",
        "colab": {
          "base_uri": "https://localhost:8080/",
          "height": 34
        },
        "outputId": "e0607c55-1a60-4e7f-fca6-80a3aa054ded"
      },
      "source": [
        "import os\n",
        "os.environ['KAGGLE_USERNAME'] = \"ishwarvenugopal06\" # username from the json file\n",
        "os.environ['KAGGLE_KEY'] = \"641c8e34b4f53442ba7b4eaf9b09b7ee\" # key from the json file\n",
        "!kaggle datasets download -d pmigdal/alien-vs-predator-images"
      ],
      "execution_count": 19,
      "outputs": [
        {
          "output_type": "stream",
          "text": [
            "alien-vs-predator-images.zip: Skipping, found more recently modified local copy (use --force to force download)\n"
          ],
          "name": "stdout"
        }
      ]
    },
    {
      "cell_type": "code",
      "metadata": {
        "id": "WxA8ITz7Ki5d",
        "colab_type": "code",
        "colab": {
          "base_uri": "https://localhost:8080/",
          "height": 34
        },
        "outputId": "19b67605-acd1-4e4f-8fb5-b3e2ce60b38c"
      },
      "source": [
        "# Upload data\n",
        "from zipfile import ZipFile\n",
        "\n",
        "file_name = \"/content/alien-vs-predator-images.zip\"\n",
        "\n",
        "with ZipFile(file_name, 'r') as zip:\n",
        "  zip.extractall()\n",
        "  print('done')"
      ],
      "execution_count": 20,
      "outputs": [
        {
          "output_type": "stream",
          "text": [
            "done\n"
          ],
          "name": "stdout"
        }
      ]
    },
    {
      "cell_type": "markdown",
      "metadata": {
        "id": "azY-vG0bR-DZ",
        "colab_type": "text"
      },
      "source": [
        "### Convolutional Neural Network model"
      ]
    },
    {
      "cell_type": "code",
      "metadata": {
        "id": "_Bfy7JjjLPOD",
        "colab_type": "code",
        "colab": {
          "base_uri": "https://localhost:8080/",
          "height": 527
        },
        "outputId": "e674e378-3ff8-44bc-f531-fb8a188a3a2e"
      },
      "source": [
        "from keras import layers\n",
        "from keras import models\n",
        "\n",
        "model = models.Sequential()\n",
        "model.add(layers.Conv2D(32, (3, 3), activation='relu', input_shape=(150, 150, 3)))\n",
        "model.add(layers.MaxPooling2D((2, 2)))\n",
        "model.add(layers.Conv2D(64, (3, 3), activation='relu'))\n",
        "model.add(layers.MaxPooling2D((2, 2)))\n",
        "model.add(layers.Conv2D(128, (3, 3), activation='relu'))\n",
        "model.add(layers.MaxPooling2D((2, 2)))\n",
        "model.add(layers.Conv2D(128, (3, 3), activation='relu'))\n",
        "model.add(layers.MaxPooling2D((2, 2)))\n",
        "model.add(layers.Flatten())\n",
        "model.add(layers.Dense(512, activation='relu'))\n",
        "model.add(layers.Dense(1, activation='sigmoid'))\n",
        "model.summary()"
      ],
      "execution_count": 24,
      "outputs": [
        {
          "output_type": "stream",
          "text": [
            "Model: \"sequential_3\"\n",
            "_________________________________________________________________\n",
            "Layer (type)                 Output Shape              Param #   \n",
            "=================================================================\n",
            "conv2d_9 (Conv2D)            (None, 148, 148, 32)      896       \n",
            "_________________________________________________________________\n",
            "max_pooling2d_9 (MaxPooling2 (None, 74, 74, 32)        0         \n",
            "_________________________________________________________________\n",
            "conv2d_10 (Conv2D)           (None, 72, 72, 64)        18496     \n",
            "_________________________________________________________________\n",
            "max_pooling2d_10 (MaxPooling (None, 36, 36, 64)        0         \n",
            "_________________________________________________________________\n",
            "conv2d_11 (Conv2D)           (None, 34, 34, 128)       73856     \n",
            "_________________________________________________________________\n",
            "max_pooling2d_11 (MaxPooling (None, 17, 17, 128)       0         \n",
            "_________________________________________________________________\n",
            "conv2d_12 (Conv2D)           (None, 15, 15, 128)       147584    \n",
            "_________________________________________________________________\n",
            "max_pooling2d_12 (MaxPooling (None, 7, 7, 128)         0         \n",
            "_________________________________________________________________\n",
            "flatten_3 (Flatten)          (None, 6272)              0         \n",
            "_________________________________________________________________\n",
            "dense_5 (Dense)              (None, 512)               3211776   \n",
            "_________________________________________________________________\n",
            "dense_6 (Dense)              (None, 1)                 513       \n",
            "=================================================================\n",
            "Total params: 3,453,121\n",
            "Trainable params: 3,453,121\n",
            "Non-trainable params: 0\n",
            "_________________________________________________________________\n"
          ],
          "name": "stdout"
        }
      ]
    },
    {
      "cell_type": "code",
      "metadata": {
        "id": "ccF-c3qaLUVN",
        "colab_type": "code",
        "colab": {}
      },
      "source": [
        "from keras import optimizers\n",
        "model.compile(loss='binary_crossentropy', \n",
        "              optimizer=optimizers.RMSprop(lr=1e-4),\n",
        "              metrics=['acc'])"
      ],
      "execution_count": 0,
      "outputs": []
    },
    {
      "cell_type": "code",
      "metadata": {
        "id": "FkwoBtnCj8tq",
        "colab_type": "code",
        "colab": {}
      },
      "source": [
        "train_dir=\"/content/data/train\"\n",
        "validation_dir=\"/content/data/validation\""
      ],
      "execution_count": 0,
      "outputs": []
    },
    {
      "cell_type": "markdown",
      "metadata": {
        "id": "pR8ozORqSQzH",
        "colab_type": "text"
      },
      "source": [
        "### Decoding the pictures into grid of pixels with proper rescaling"
      ]
    },
    {
      "cell_type": "code",
      "metadata": {
        "id": "sEtGs9JlLXN8",
        "colab_type": "code",
        "colab": {
          "base_uri": "https://localhost:8080/",
          "height": 51
        },
        "outputId": "3a5af15e-95d9-4786-b540-e16785225a61"
      },
      "source": [
        "from keras.preprocessing.image import ImageDataGenerator\n",
        "\n",
        "train_datagen = ImageDataGenerator(rescale=1./255)\n",
        "test_datagen = ImageDataGenerator(rescale=1./255)\n",
        "\n",
        "train_generator = train_datagen.flow_from_directory(train_dir,\n",
        "                                                    target_size=(150, 150), \n",
        "                                                    batch_size=20,\n",
        "                                                    class_mode='binary')\n",
        "\n",
        "validation_generator = test_datagen.flow_from_directory(validation_dir,\n",
        "                                                        target_size=(150, 150),\n",
        "                                                        batch_size=20,\n",
        "                                                        class_mode='binary')"
      ],
      "execution_count": 27,
      "outputs": [
        {
          "output_type": "stream",
          "text": [
            "Found 694 images belonging to 2 classes.\n",
            "Found 200 images belonging to 2 classes.\n"
          ],
          "name": "stdout"
        }
      ]
    },
    {
      "cell_type": "markdown",
      "metadata": {
        "id": "a5rqJcT3Ssyg",
        "colab_type": "text"
      },
      "source": [
        "### Training the model"
      ]
    },
    {
      "cell_type": "code",
      "metadata": {
        "id": "nbAFqw32Ljon",
        "colab_type": "code",
        "colab": {
          "base_uri": "https://localhost:8080/",
          "height": 1000
        },
        "outputId": "7906fa7f-8744-4d87-814e-e56e3b4f4693"
      },
      "source": [
        "history = model.fit_generator(train_generator,\n",
        "                              steps_per_epoch=100,\n",
        "                              epochs=30,\n",
        "                              validation_data=validation_generator,\n",
        "                              validation_steps=10)"
      ],
      "execution_count": 28,
      "outputs": [
        {
          "output_type": "stream",
          "text": [
            "Epoch 1/30\n",
            "100/100 [==============================] - 4s 38ms/step - loss: 0.6334 - acc: 0.6313 - val_loss: 0.5980 - val_acc: 0.6150\n",
            "Epoch 2/30\n",
            "100/100 [==============================] - 3s 30ms/step - loss: 0.5525 - acc: 0.7255 - val_loss: 0.5691 - val_acc: 0.7000\n",
            "Epoch 3/30\n",
            "100/100 [==============================] - 3s 30ms/step - loss: 0.4651 - acc: 0.7821 - val_loss: 0.5681 - val_acc: 0.6800\n",
            "Epoch 4/30\n",
            "100/100 [==============================] - 3s 31ms/step - loss: 0.4008 - acc: 0.8251 - val_loss: 0.5113 - val_acc: 0.7450\n",
            "Epoch 5/30\n",
            "100/100 [==============================] - 3s 31ms/step - loss: 0.3378 - acc: 0.8588 - val_loss: 0.5484 - val_acc: 0.7150\n",
            "Epoch 6/30\n",
            "100/100 [==============================] - 3s 32ms/step - loss: 0.2840 - acc: 0.8934 - val_loss: 0.5721 - val_acc: 0.7100\n",
            "Epoch 7/30\n",
            "100/100 [==============================] - 3s 33ms/step - loss: 0.2301 - acc: 0.9103 - val_loss: 0.5719 - val_acc: 0.7500\n",
            "Epoch 8/30\n",
            "100/100 [==============================] - 3s 30ms/step - loss: 0.1737 - acc: 0.9434 - val_loss: 0.8413 - val_acc: 0.7000\n",
            "Epoch 9/30\n",
            "100/100 [==============================] - 3s 31ms/step - loss: 0.1397 - acc: 0.9546 - val_loss: 0.5977 - val_acc: 0.7550\n",
            "Epoch 10/30\n",
            "100/100 [==============================] - 3s 30ms/step - loss: 0.0949 - acc: 0.9760 - val_loss: 0.6537 - val_acc: 0.7750\n",
            "Epoch 11/30\n",
            "100/100 [==============================] - 3s 32ms/step - loss: 0.0722 - acc: 0.9833 - val_loss: 0.7371 - val_acc: 0.7600\n",
            "Epoch 12/30\n",
            "100/100 [==============================] - 3s 31ms/step - loss: 0.0519 - acc: 0.9895 - val_loss: 0.8324 - val_acc: 0.7600\n",
            "Epoch 13/30\n",
            "100/100 [==============================] - 3s 32ms/step - loss: 0.0395 - acc: 0.9895 - val_loss: 0.8913 - val_acc: 0.7000\n",
            "Epoch 14/30\n",
            "100/100 [==============================] - 3s 30ms/step - loss: 0.0226 - acc: 0.9955 - val_loss: 0.9275 - val_acc: 0.7550\n",
            "Epoch 15/30\n",
            "100/100 [==============================] - 3s 30ms/step - loss: 0.0308 - acc: 0.9905 - val_loss: 0.9590 - val_acc: 0.7500\n",
            "Epoch 16/30\n",
            "100/100 [==============================] - 3s 34ms/step - loss: 0.0149 - acc: 0.9960 - val_loss: 1.2316 - val_acc: 0.7050\n",
            "Epoch 17/30\n",
            "100/100 [==============================] - 3s 30ms/step - loss: 0.0239 - acc: 0.9940 - val_loss: 1.1321 - val_acc: 0.7450\n",
            "Epoch 18/30\n",
            "100/100 [==============================] - 3s 31ms/step - loss: 0.0107 - acc: 0.9985 - val_loss: 1.1627 - val_acc: 0.7600\n",
            "Epoch 19/30\n",
            "100/100 [==============================] - 3s 31ms/step - loss: 0.0239 - acc: 0.9902 - val_loss: 1.1991 - val_acc: 0.7400\n",
            "Epoch 20/30\n",
            "100/100 [==============================] - 3s 32ms/step - loss: 0.0148 - acc: 0.9960 - val_loss: 1.1683 - val_acc: 0.7450\n",
            "Epoch 21/30\n",
            "100/100 [==============================] - 3s 31ms/step - loss: 0.0094 - acc: 0.9970 - val_loss: 1.1953 - val_acc: 0.7850\n",
            "Epoch 22/30\n",
            "100/100 [==============================] - 3s 31ms/step - loss: 0.0087 - acc: 0.9980 - val_loss: 1.4014 - val_acc: 0.7250\n",
            "Epoch 23/30\n",
            "100/100 [==============================] - 3s 30ms/step - loss: 0.0169 - acc: 0.9940 - val_loss: 1.4460 - val_acc: 0.7550\n",
            "Epoch 24/30\n",
            "100/100 [==============================] - 3s 31ms/step - loss: 0.0046 - acc: 0.9990 - val_loss: 1.5051 - val_acc: 0.7350\n",
            "Epoch 25/30\n",
            "100/100 [==============================] - 3s 30ms/step - loss: 0.0057 - acc: 0.9980 - val_loss: 1.5606 - val_acc: 0.7650\n",
            "Epoch 26/30\n",
            "100/100 [==============================] - 3s 31ms/step - loss: 1.3997e-04 - acc: 1.0000 - val_loss: 1.6869 - val_acc: 0.7150\n",
            "Epoch 27/30\n",
            "100/100 [==============================] - 3s 32ms/step - loss: 0.0047 - acc: 0.9988 - val_loss: 1.6980 - val_acc: 0.7200\n",
            "Epoch 28/30\n",
            "100/100 [==============================] - 3s 31ms/step - loss: 0.0058 - acc: 0.9980 - val_loss: 1.6325 - val_acc: 0.7500\n",
            "Epoch 29/30\n",
            "100/100 [==============================] - 3s 31ms/step - loss: 0.0107 - acc: 0.9975 - val_loss: 1.6414 - val_acc: 0.7700\n",
            "Epoch 30/30\n",
            "100/100 [==============================] - 3s 31ms/step - loss: 0.0155 - acc: 0.9975 - val_loss: 1.6078 - val_acc: 0.7500\n"
          ],
          "name": "stdout"
        }
      ]
    },
    {
      "cell_type": "code",
      "metadata": {
        "id": "nZiBXg5ZMAXH",
        "colab_type": "code",
        "colab": {
          "base_uri": "https://localhost:8080/",
          "height": 545
        },
        "outputId": "40c9c269-53d0-4377-d2fe-f4e01f10dd19"
      },
      "source": [
        "model.save('aliensVsPredators_1.h5')\n",
        "\n",
        "import matplotlib.pyplot as plt\n",
        "\n",
        "acc = history.history['acc']\n",
        "val_acc = history.history['val_acc']\n",
        "loss = history.history['loss']\n",
        "val_loss = history.history['val_loss']\n",
        "\n",
        "epochs = range(1, len(acc) + 1)\n",
        "\n",
        "plt.plot(epochs, acc, 'bo', label='Training acc')\n",
        "plt.plot(epochs, val_acc, 'b', label='Validation acc')\n",
        "plt.title('Training and validation accuracy')\n",
        "plt.legend()\n",
        "\n",
        "plt.figure()\n",
        "\n",
        "plt.plot(epochs, loss, 'bo', label='Training loss')\n",
        "plt.plot(epochs, val_loss, 'b', label='Validation loss')\n",
        "plt.title('Training and validation loss')\n",
        "plt.legend()\n",
        "\n",
        "plt.show()"
      ],
      "execution_count": 29,
      "outputs": [
        {
          "output_type": "display_data",
          "data": {
            "image/png": "[encoded data removed]",
            "text/plain": [
              "<Figure size 432x288 with 1 Axes>"
            ]
          },
          "metadata": {
            "tags": []
          }
        },
        {
          "output_type": "display_data",
          "data": {
            "image/png": "[encoded data removed]",
            "text/plain": [
              "<Figure size 432x288 with 1 Axes>"
            ]
          },
          "metadata": {
            "tags": []
          }
        }
      ]
    },
    {
      "cell_type": "markdown",
      "metadata": {
        "id": "8_oLkrBUTb6j",
        "colab_type": "text"
      },
      "source": [
        "### Convolution Layer with Dropout"
      ]
    },
    {
      "cell_type": "code",
      "metadata": {
        "id": "skZJyjHpMDFX",
        "colab_type": "code",
        "colab": {}
      },
      "source": [
        "model = models.Sequential()\n",
        "model.add(layers.Conv2D(32, (3, 3), activation='relu',\n",
        "input_shape=(150, 150, 3)))\n",
        "model.add(layers.MaxPooling2D((2, 2)))\n",
        "model.add(layers.Conv2D(64, (3, 3), activation='relu'))\n",
        "model.add(layers.MaxPooling2D((2, 2)))\n",
        "model.add(layers.Conv2D(128, (3, 3), activation='relu'))\n",
        "model.add(layers.MaxPooling2D((2, 2)))\n",
        "model.add(layers.Conv2D(128, (3, 3), activation='relu'))\n",
        "model.add(layers.MaxPooling2D((2, 2)))\n",
        "model.add(layers.Flatten())\n",
        "model.add(layers.Dropout(0.5))\n",
        "model.add(layers.Dense(512, activation='relu'))\n",
        "model.add(layers.Dense(1, activation='sigmoid'))\n",
        "\n",
        "model.compile(loss='binary_crossentropy',\n",
        "              optimizer=optimizers.RMSprop(lr=1e-4),\n",
        "              metrics=['acc'])"
      ],
      "execution_count": 0,
      "outputs": []
    },
    {
      "cell_type": "code",
      "metadata": {
        "id": "FQjF0KgnMGfA",
        "colab_type": "code",
        "colab": {
          "base_uri": "https://localhost:8080/",
          "height": 731
        },
        "outputId": "2f64c297-19f0-4b4f-a3da-a408245d1866"
      },
      "source": [
        "train_datagen = ImageDataGenerator(rescale=1./255,\n",
        "                                   rotation_range=40,\n",
        "                                   width_shift_range=0.2,\n",
        "                                   height_shift_range=0.2,\n",
        "                                   shear_range=0.2,\n",
        "                                   zoom_range=0.2,\n",
        "                                   horizontal_flip=True,)\n",
        "\n",
        "test_datagen = ImageDataGenerator(rescale=1./255)\n",
        "\n",
        "train_generator = train_datagen.flow_from_directory(train_dir,\n",
        "                                                    target_size=(150, 150),\n",
        "                                                    batch_size=32,\n",
        "                                                    class_mode='binary')\n",
        "\n",
        "validation_generator = test_datagen.flow_from_directory(validation_dir,\n",
        "                                                        target_size=(150, 150),\n",
        "                                                        batch_size=32,\n",
        "                                                        class_mode='binary')\n",
        "\n",
        "history = model.fit_generator(train_generator,\n",
        "                              steps_per_epoch=100,\n",
        "                              epochs=20,\n",
        "                              validation_data=validation_generator,\n",
        "                              validation_steps=50)"
      ],
      "execution_count": 31,
      "outputs": [
        {
          "output_type": "stream",
          "text": [
            "Found 694 images belonging to 2 classes.\n",
            "Found 200 images belonging to 2 classes.\n",
            "Epoch 1/20\n",
            "100/100 [==============================] - 21s 208ms/step - loss: 0.6365 - acc: 0.6297 - val_loss: 0.6205 - val_acc: 0.6041\n",
            "Epoch 2/20\n",
            "100/100 [==============================] - 19s 189ms/step - loss: 0.5773 - acc: 0.6955 - val_loss: 0.6736 - val_acc: 0.6110\n",
            "Epoch 3/20\n",
            "100/100 [==============================] - 19s 185ms/step - loss: 0.5497 - acc: 0.7217 - val_loss: 0.5936 - val_acc: 0.6292\n",
            "Epoch 4/20\n",
            "100/100 [==============================] - 19s 190ms/step - loss: 0.5352 - acc: 0.7316 - val_loss: 0.6080 - val_acc: 0.6613\n",
            "Epoch 5/20\n",
            "100/100 [==============================] - 19s 186ms/step - loss: 0.5168 - acc: 0.7482 - val_loss: 0.5292 - val_acc: 0.7200\n",
            "Epoch 6/20\n",
            "100/100 [==============================] - 20s 197ms/step - loss: 0.5017 - acc: 0.7541 - val_loss: 0.5941 - val_acc: 0.6711\n",
            "Epoch 7/20\n",
            "100/100 [==============================] - 18s 184ms/step - loss: 0.4903 - acc: 0.7580 - val_loss: 0.5808 - val_acc: 0.7010\n",
            "Epoch 8/20\n",
            "100/100 [==============================] - 20s 196ms/step - loss: 0.4738 - acc: 0.7686 - val_loss: 0.4952 - val_acc: 0.7353\n",
            "Epoch 9/20\n",
            "100/100 [==============================] - 18s 185ms/step - loss: 0.4608 - acc: 0.7853 - val_loss: 0.5581 - val_acc: 0.7151\n",
            "Epoch 10/20\n",
            "100/100 [==============================] - 20s 199ms/step - loss: 0.4543 - acc: 0.7852 - val_loss: 0.5460 - val_acc: 0.7472\n",
            "Epoch 11/20\n",
            "100/100 [==============================] - 19s 187ms/step - loss: 0.4476 - acc: 0.7818 - val_loss: 0.8418 - val_acc: 0.6473\n",
            "Epoch 12/20\n",
            "100/100 [==============================] - 19s 187ms/step - loss: 0.4357 - acc: 0.7909 - val_loss: 0.4928 - val_acc: 0.7633\n",
            "Epoch 13/20\n",
            "100/100 [==============================] - 19s 190ms/step - loss: 0.4256 - acc: 0.7994 - val_loss: 0.5091 - val_acc: 0.7584\n",
            "Epoch 14/20\n",
            "100/100 [==============================] - 19s 188ms/step - loss: 0.4246 - acc: 0.8011 - val_loss: 0.5459 - val_acc: 0.7564\n",
            "Epoch 15/20\n",
            "100/100 [==============================] - 19s 193ms/step - loss: 0.4095 - acc: 0.8133 - val_loss: 0.4685 - val_acc: 0.7668\n",
            "Epoch 16/20\n",
            "100/100 [==============================] - 18s 185ms/step - loss: 0.4050 - acc: 0.8089 - val_loss: 0.6272 - val_acc: 0.7381\n",
            "Epoch 17/20\n",
            "100/100 [==============================] - 19s 194ms/step - loss: 0.4156 - acc: 0.8059 - val_loss: 0.9429 - val_acc: 0.6222\n",
            "Epoch 18/20\n",
            "100/100 [==============================] - 19s 187ms/step - loss: 0.4041 - acc: 0.8161 - val_loss: 0.4921 - val_acc: 0.7856\n",
            "Epoch 19/20\n",
            "100/100 [==============================] - 20s 197ms/step - loss: 0.3997 - acc: 0.8186 - val_loss: 0.4980 - val_acc: 0.7926\n",
            "Epoch 20/20\n",
            "100/100 [==============================] - 18s 181ms/step - loss: 0.3930 - acc: 0.8157 - val_loss: 0.5289 - val_acc: 0.7821\n"
          ],
          "name": "stdout"
        }
      ]
    },
    {
      "cell_type": "code",
      "metadata": {
        "id": "pC2ndofgmOzq",
        "colab_type": "code",
        "colab": {
          "base_uri": "https://localhost:8080/",
          "height": 545
        },
        "outputId": "bf593e2a-c548-4e12-8e7b-fa9e19d0a619"
      },
      "source": [
        "acc = history.history['acc']\n",
        "val_acc = history.history['val_acc']\n",
        "loss = history.history['loss']\n",
        "val_loss = history.history['val_loss']\n",
        "\n",
        "epochs = range(1, len(acc) + 1)\n",
        "\n",
        "plt.plot(epochs, acc, 'bo', label='Training acc')\n",
        "plt.plot(epochs, val_acc, 'b', label='Validation acc')\n",
        "plt.title('Training and validation accuracy')\n",
        "plt.legend()\n",
        "\n",
        "plt.figure()\n",
        "\n",
        "plt.plot(epochs, loss, 'bo', label='Training loss')\n",
        "plt.plot(epochs, val_loss, 'b', label='Validation loss')\n",
        "plt.title('Training and validation loss')\n",
        "plt.legend()\n",
        "\n",
        "plt.show()"
      ],
      "execution_count": 32,
      "outputs": [
        {
          "output_type": "display_data",
          "data": {
            "image/png": "[encoded data removed]",
            "text/plain": [
              "<Figure size 432x288 with 1 Axes>"
            ]
          },
          "metadata": {
            "tags": []
          }
        },
        {
          "output_type": "display_data",
          "data": {
            "image/png": "[encoded data removed]",
            "text/plain": [
              "<Figure size 432x288 with 1 Axes>"
            ]
          },
          "metadata": {
            "tags": []
          }
        }
      ]
    }
  ]
}