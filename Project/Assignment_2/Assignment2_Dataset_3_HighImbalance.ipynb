{
  "nbformat": 4,
  "nbformat_minor": 0,
  "metadata": {
    "colab": {
      "name": "Assignment2_Dataset_3_HighImbalance.ipynb",
      "provenance": [],
      "collapsed_sections": [],
      "authorship_tag": "ABX9TyN37xie4eWjq5p5AnL0x9zk",
      "include_colab_link": true
    },
    "kernelspec": {
      "name": "python3",
      "display_name": "Python 3"
    }
  },
  "cells": [
    {
      "cell_type": "markdown",
      "metadata": {
        "id": "view-in-github",
        "colab_type": "text"
      },
      "source": [
        "<a href=\"https://colab.research.google.com/github/ishwarvenugopal/CE888_Data_Science_and_Decision_Making/blob/master/Project/Assignment_2/Assignment2_Dataset_3_HighImbalance.ipynb\" target=\"_parent\"><img src=\"https://colab.research.google.com/assets/colab-badge.svg\" alt=\"Open In Colab\"/></a>"
      ]
    },
    {
      "cell_type": "code",
      "metadata": {
        "id": "4-sQ1T2mC9Tq",
        "colab_type": "code",
        "colab": {}
      },
      "source": [
        "import pandas as pd\n",
        "import numpy as np\n",
        "import sklearn\n",
        "from sklearn.model_selection import train_test_split\n",
        "from sklearn.tree import DecisionTreeClassifier\n",
        "from sklearn.model_selection import cross_val_score\n",
        "from sklearn.metrics import confusion_matrix\n",
        "import matplotlib.pyplot as plt\n",
        "import seaborn as sn\n",
        "from sklearn.metrics import plot_confusion_matrix\n",
        "from sklearn.metrics import accuracy_score\n",
        "from sklearn.metrics import classification_report\n",
        "from sklearn.metrics import silhouette_score\n",
        "from sklearn.ensemble import RandomForestClassifier\n",
        "from sklearn.preprocessing import MinMaxScaler\n",
        "from sklearn.cluster import KMeans\n",
        "from sklearn.metrics import cohen_kappa_score"
      ],
      "execution_count": 0,
      "outputs": []
    },
    {
      "cell_type": "markdown",
      "metadata": {
        "id": "_11cuhLCzT1h",
        "colab_type": "text"
      },
      "source": [
        "## Load Data"
      ]
    },
    {
      "cell_type": "code",
      "metadata": {
        "id": "LfhO_kKMh8SZ",
        "colab_type": "code",
        "outputId": "4286ea33-f480-45a8-9d18-0220c6befa40",
        "colab": {
          "base_uri": "https://localhost:8080/",
          "height": 222
        }
      },
      "source": [
        "df=pd.read_csv('/content/Dataset_3_high.csv')\n",
        "df=df.drop('Unnamed: 0',axis=1)\n",
        "df.head()"
      ],
      "execution_count": 5,
      "outputs": [
        {
          "output_type": "execute_result",
          "data": {
            "text/html": [
              "<div>\n",
              "<style scoped>\n",
              "    .dataframe tbody tr th:only-of-type {\n",
              "        vertical-align: middle;\n",
              "    }\n",
              "\n",
              "    .dataframe tbody tr th {\n",
              "        vertical-align: top;\n",
              "    }\n",
              "\n",
              "    .dataframe thead th {\n",
              "        text-align: right;\n",
              "    }\n",
              "</style>\n",
              "<table border=\"1\" class=\"dataframe\">\n",
              "  <thead>\n",
              "    <tr style=\"text-align: right;\">\n",
              "      <th></th>\n",
              "      <th>id</th>\n",
              "      <th>target</th>\n",
              "      <th>ps_ind_01</th>\n",
              "      <th>ps_ind_02_cat</th>\n",
              "      <th>ps_ind_03</th>\n",
              "      <th>ps_ind_04_cat</th>\n",
              "      <th>ps_ind_05_cat</th>\n",
              "      <th>ps_ind_06_bin</th>\n",
              "      <th>ps_ind_07_bin</th>\n",
              "      <th>ps_ind_08_bin</th>\n",
              "      <th>ps_ind_09_bin</th>\n",
              "      <th>ps_ind_10_bin</th>\n",
              "      <th>ps_ind_11_bin</th>\n",
              "      <th>ps_ind_12_bin</th>\n",
              "      <th>ps_ind_13_bin</th>\n",
              "      <th>ps_ind_14</th>\n",
              "      <th>ps_ind_15</th>\n",
              "      <th>ps_ind_16_bin</th>\n",
              "      <th>ps_ind_17_bin</th>\n",
              "      <th>ps_ind_18_bin</th>\n",
              "      <th>ps_reg_01</th>\n",
              "      <th>ps_reg_02</th>\n",
              "      <th>ps_reg_03</th>\n",
              "      <th>ps_car_01_cat</th>\n",
              "      <th>ps_car_02_cat</th>\n",
              "      <th>ps_car_03_cat</th>\n",
              "      <th>ps_car_04_cat</th>\n",
              "      <th>ps_car_05_cat</th>\n",
              "      <th>ps_car_06_cat</th>\n",
              "      <th>ps_car_07_cat</th>\n",
              "      <th>ps_car_08_cat</th>\n",
              "      <th>ps_car_09_cat</th>\n",
              "      <th>ps_car_10_cat</th>\n",
              "      <th>ps_car_11_cat</th>\n",
              "      <th>ps_car_11</th>\n",
              "      <th>ps_car_12</th>\n",
              "      <th>ps_car_13</th>\n",
              "      <th>ps_car_14</th>\n",
              "      <th>ps_car_15</th>\n",
              "      <th>ps_calc_01</th>\n",
              "      <th>ps_calc_02</th>\n",
              "      <th>ps_calc_03</th>\n",
              "      <th>ps_calc_04</th>\n",
              "      <th>ps_calc_05</th>\n",
              "      <th>ps_calc_06</th>\n",
              "      <th>ps_calc_07</th>\n",
              "      <th>ps_calc_08</th>\n",
              "      <th>ps_calc_09</th>\n",
              "      <th>ps_calc_10</th>\n",
              "      <th>ps_calc_11</th>\n",
              "      <th>ps_calc_12</th>\n",
              "      <th>ps_calc_13</th>\n",
              "      <th>ps_calc_14</th>\n",
              "      <th>ps_calc_15_bin</th>\n",
              "      <th>ps_calc_16_bin</th>\n",
              "      <th>ps_calc_17_bin</th>\n",
              "      <th>ps_calc_18_bin</th>\n",
              "      <th>ps_calc_19_bin</th>\n",
              "      <th>ps_calc_20_bin</th>\n",
              "    </tr>\n",
              "  </thead>\n",
              "  <tbody>\n",
              "    <tr>\n",
              "      <th>0</th>\n",
              "      <td>7</td>\n",
              "      <td>0</td>\n",
              "      <td>2</td>\n",
              "      <td>2</td>\n",
              "      <td>5</td>\n",
              "      <td>1</td>\n",
              "      <td>0</td>\n",
              "      <td>0</td>\n",
              "      <td>1</td>\n",
              "      <td>0</td>\n",
              "      <td>0</td>\n",
              "      <td>0</td>\n",
              "      <td>0</td>\n",
              "      <td>0</td>\n",
              "      <td>0</td>\n",
              "      <td>0</td>\n",
              "      <td>11</td>\n",
              "      <td>0</td>\n",
              "      <td>1</td>\n",
              "      <td>0</td>\n",
              "      <td>0.7</td>\n",
              "      <td>0.2</td>\n",
              "      <td>0.718070</td>\n",
              "      <td>10</td>\n",
              "      <td>1</td>\n",
              "      <td>-1</td>\n",
              "      <td>0</td>\n",
              "      <td>1</td>\n",
              "      <td>4</td>\n",
              "      <td>1</td>\n",
              "      <td>0</td>\n",
              "      <td>0</td>\n",
              "      <td>1</td>\n",
              "      <td>12</td>\n",
              "      <td>2</td>\n",
              "      <td>0.400000</td>\n",
              "      <td>0.883679</td>\n",
              "      <td>0.370810</td>\n",
              "      <td>3.605551</td>\n",
              "      <td>0.6</td>\n",
              "      <td>0.5</td>\n",
              "      <td>0.2</td>\n",
              "      <td>3</td>\n",
              "      <td>1</td>\n",
              "      <td>10</td>\n",
              "      <td>1</td>\n",
              "      <td>10</td>\n",
              "      <td>1</td>\n",
              "      <td>5</td>\n",
              "      <td>9</td>\n",
              "      <td>1</td>\n",
              "      <td>5</td>\n",
              "      <td>8</td>\n",
              "      <td>0</td>\n",
              "      <td>1</td>\n",
              "      <td>1</td>\n",
              "      <td>0</td>\n",
              "      <td>0</td>\n",
              "      <td>1</td>\n",
              "    </tr>\n",
              "    <tr>\n",
              "      <th>1</th>\n",
              "      <td>9</td>\n",
              "      <td>0</td>\n",
              "      <td>1</td>\n",
              "      <td>1</td>\n",
              "      <td>7</td>\n",
              "      <td>0</td>\n",
              "      <td>0</td>\n",
              "      <td>0</td>\n",
              "      <td>0</td>\n",
              "      <td>1</td>\n",
              "      <td>0</td>\n",
              "      <td>0</td>\n",
              "      <td>0</td>\n",
              "      <td>0</td>\n",
              "      <td>0</td>\n",
              "      <td>0</td>\n",
              "      <td>3</td>\n",
              "      <td>0</td>\n",
              "      <td>0</td>\n",
              "      <td>1</td>\n",
              "      <td>0.8</td>\n",
              "      <td>0.4</td>\n",
              "      <td>0.766078</td>\n",
              "      <td>11</td>\n",
              "      <td>1</td>\n",
              "      <td>-1</td>\n",
              "      <td>0</td>\n",
              "      <td>-1</td>\n",
              "      <td>11</td>\n",
              "      <td>1</td>\n",
              "      <td>1</td>\n",
              "      <td>2</td>\n",
              "      <td>1</td>\n",
              "      <td>19</td>\n",
              "      <td>3</td>\n",
              "      <td>0.316228</td>\n",
              "      <td>0.618817</td>\n",
              "      <td>0.388716</td>\n",
              "      <td>2.449490</td>\n",
              "      <td>0.3</td>\n",
              "      <td>0.1</td>\n",
              "      <td>0.3</td>\n",
              "      <td>2</td>\n",
              "      <td>1</td>\n",
              "      <td>9</td>\n",
              "      <td>5</td>\n",
              "      <td>8</td>\n",
              "      <td>1</td>\n",
              "      <td>7</td>\n",
              "      <td>3</td>\n",
              "      <td>1</td>\n",
              "      <td>1</td>\n",
              "      <td>9</td>\n",
              "      <td>0</td>\n",
              "      <td>1</td>\n",
              "      <td>1</td>\n",
              "      <td>0</td>\n",
              "      <td>1</td>\n",
              "      <td>0</td>\n",
              "    </tr>\n",
              "    <tr>\n",
              "      <th>2</th>\n",
              "      <td>13</td>\n",
              "      <td>0</td>\n",
              "      <td>5</td>\n",
              "      <td>4</td>\n",
              "      <td>9</td>\n",
              "      <td>1</td>\n",
              "      <td>0</td>\n",
              "      <td>0</td>\n",
              "      <td>0</td>\n",
              "      <td>1</td>\n",
              "      <td>0</td>\n",
              "      <td>0</td>\n",
              "      <td>0</td>\n",
              "      <td>0</td>\n",
              "      <td>0</td>\n",
              "      <td>0</td>\n",
              "      <td>12</td>\n",
              "      <td>1</td>\n",
              "      <td>0</td>\n",
              "      <td>0</td>\n",
              "      <td>0.0</td>\n",
              "      <td>0.0</td>\n",
              "      <td>-1.000000</td>\n",
              "      <td>7</td>\n",
              "      <td>1</td>\n",
              "      <td>-1</td>\n",
              "      <td>0</td>\n",
              "      <td>-1</td>\n",
              "      <td>14</td>\n",
              "      <td>1</td>\n",
              "      <td>1</td>\n",
              "      <td>2</td>\n",
              "      <td>1</td>\n",
              "      <td>60</td>\n",
              "      <td>1</td>\n",
              "      <td>0.316228</td>\n",
              "      <td>0.641586</td>\n",
              "      <td>0.347275</td>\n",
              "      <td>3.316625</td>\n",
              "      <td>0.5</td>\n",
              "      <td>0.7</td>\n",
              "      <td>0.1</td>\n",
              "      <td>2</td>\n",
              "      <td>2</td>\n",
              "      <td>9</td>\n",
              "      <td>1</td>\n",
              "      <td>8</td>\n",
              "      <td>2</td>\n",
              "      <td>7</td>\n",
              "      <td>4</td>\n",
              "      <td>2</td>\n",
              "      <td>7</td>\n",
              "      <td>7</td>\n",
              "      <td>0</td>\n",
              "      <td>1</td>\n",
              "      <td>1</td>\n",
              "      <td>0</td>\n",
              "      <td>1</td>\n",
              "      <td>0</td>\n",
              "    </tr>\n",
              "    <tr>\n",
              "      <th>3</th>\n",
              "      <td>16</td>\n",
              "      <td>0</td>\n",
              "      <td>0</td>\n",
              "      <td>1</td>\n",
              "      <td>2</td>\n",
              "      <td>0</td>\n",
              "      <td>0</td>\n",
              "      <td>1</td>\n",
              "      <td>0</td>\n",
              "      <td>0</td>\n",
              "      <td>0</td>\n",
              "      <td>0</td>\n",
              "      <td>0</td>\n",
              "      <td>0</td>\n",
              "      <td>0</td>\n",
              "      <td>0</td>\n",
              "      <td>8</td>\n",
              "      <td>1</td>\n",
              "      <td>0</td>\n",
              "      <td>0</td>\n",
              "      <td>0.9</td>\n",
              "      <td>0.2</td>\n",
              "      <td>0.580948</td>\n",
              "      <td>7</td>\n",
              "      <td>1</td>\n",
              "      <td>0</td>\n",
              "      <td>0</td>\n",
              "      <td>1</td>\n",
              "      <td>11</td>\n",
              "      <td>1</td>\n",
              "      <td>1</td>\n",
              "      <td>3</td>\n",
              "      <td>1</td>\n",
              "      <td>104</td>\n",
              "      <td>1</td>\n",
              "      <td>0.374166</td>\n",
              "      <td>0.542949</td>\n",
              "      <td>0.294958</td>\n",
              "      <td>2.000000</td>\n",
              "      <td>0.6</td>\n",
              "      <td>0.9</td>\n",
              "      <td>0.1</td>\n",
              "      <td>2</td>\n",
              "      <td>4</td>\n",
              "      <td>7</td>\n",
              "      <td>1</td>\n",
              "      <td>8</td>\n",
              "      <td>4</td>\n",
              "      <td>2</td>\n",
              "      <td>2</td>\n",
              "      <td>2</td>\n",
              "      <td>4</td>\n",
              "      <td>9</td>\n",
              "      <td>0</td>\n",
              "      <td>0</td>\n",
              "      <td>0</td>\n",
              "      <td>0</td>\n",
              "      <td>0</td>\n",
              "      <td>0</td>\n",
              "    </tr>\n",
              "    <tr>\n",
              "      <th>4</th>\n",
              "      <td>17</td>\n",
              "      <td>0</td>\n",
              "      <td>0</td>\n",
              "      <td>2</td>\n",
              "      <td>0</td>\n",
              "      <td>1</td>\n",
              "      <td>0</td>\n",
              "      <td>1</td>\n",
              "      <td>0</td>\n",
              "      <td>0</td>\n",
              "      <td>0</td>\n",
              "      <td>0</td>\n",
              "      <td>0</td>\n",
              "      <td>0</td>\n",
              "      <td>0</td>\n",
              "      <td>0</td>\n",
              "      <td>9</td>\n",
              "      <td>1</td>\n",
              "      <td>0</td>\n",
              "      <td>0</td>\n",
              "      <td>0.7</td>\n",
              "      <td>0.6</td>\n",
              "      <td>0.840759</td>\n",
              "      <td>11</td>\n",
              "      <td>1</td>\n",
              "      <td>-1</td>\n",
              "      <td>0</td>\n",
              "      <td>-1</td>\n",
              "      <td>14</td>\n",
              "      <td>1</td>\n",
              "      <td>1</td>\n",
              "      <td>2</td>\n",
              "      <td>1</td>\n",
              "      <td>82</td>\n",
              "      <td>3</td>\n",
              "      <td>0.316070</td>\n",
              "      <td>0.565832</td>\n",
              "      <td>0.365103</td>\n",
              "      <td>2.000000</td>\n",
              "      <td>0.4</td>\n",
              "      <td>0.6</td>\n",
              "      <td>0.0</td>\n",
              "      <td>2</td>\n",
              "      <td>2</td>\n",
              "      <td>6</td>\n",
              "      <td>3</td>\n",
              "      <td>10</td>\n",
              "      <td>2</td>\n",
              "      <td>12</td>\n",
              "      <td>3</td>\n",
              "      <td>1</td>\n",
              "      <td>1</td>\n",
              "      <td>3</td>\n",
              "      <td>0</td>\n",
              "      <td>0</td>\n",
              "      <td>0</td>\n",
              "      <td>1</td>\n",
              "      <td>1</td>\n",
              "      <td>0</td>\n",
              "    </tr>\n",
              "  </tbody>\n",
              "</table>\n",
              "</div>"
            ],
            "text/plain": [
              "   id  target  ps_ind_01  ...  ps_calc_18_bin  ps_calc_19_bin  ps_calc_20_bin\n",
              "0   7       0          2  ...               0               0               1\n",
              "1   9       0          1  ...               0               1               0\n",
              "2  13       0          5  ...               0               1               0\n",
              "3  16       0          0  ...               0               0               0\n",
              "4  17       0          0  ...               1               1               0\n",
              "\n",
              "[5 rows x 59 columns]"
            ]
          },
          "metadata": {
            "tags": []
          },
          "execution_count": 5
        }
      ]
    },
    {
      "cell_type": "code",
      "metadata": {
        "id": "5mCCY7o4iH2X",
        "colab_type": "code",
        "colab": {}
      },
      "source": [
        "#Rearranging the columns such that the class attributes become the last column\n",
        "\n",
        "cols=list(df.columns)\n",
        "cols= cols[:1] + cols[2:] + [cols[1]]\n",
        "df=df[cols]"
      ],
      "execution_count": 0,
      "outputs": []
    },
    {
      "cell_type": "code",
      "metadata": {
        "id": "K2QMOC_9jo1N",
        "colab_type": "code",
        "outputId": "d6e11d7e-442f-414b-8ee6-907d0158cd22",
        "colab": {
          "base_uri": "https://localhost:8080/",
          "height": 282
        }
      },
      "source": [
        "columns=df.columns\n",
        "columns"
      ],
      "execution_count": 7,
      "outputs": [
        {
          "output_type": "execute_result",
          "data": {
            "text/plain": [
              "Index(['id', 'ps_ind_01', 'ps_ind_02_cat', 'ps_ind_03', 'ps_ind_04_cat',\n",
              "       'ps_ind_05_cat', 'ps_ind_06_bin', 'ps_ind_07_bin', 'ps_ind_08_bin',\n",
              "       'ps_ind_09_bin', 'ps_ind_10_bin', 'ps_ind_11_bin', 'ps_ind_12_bin',\n",
              "       'ps_ind_13_bin', 'ps_ind_14', 'ps_ind_15', 'ps_ind_16_bin',\n",
              "       'ps_ind_17_bin', 'ps_ind_18_bin', 'ps_reg_01', 'ps_reg_02', 'ps_reg_03',\n",
              "       'ps_car_01_cat', 'ps_car_02_cat', 'ps_car_03_cat', 'ps_car_04_cat',\n",
              "       'ps_car_05_cat', 'ps_car_06_cat', 'ps_car_07_cat', 'ps_car_08_cat',\n",
              "       'ps_car_09_cat', 'ps_car_10_cat', 'ps_car_11_cat', 'ps_car_11',\n",
              "       'ps_car_12', 'ps_car_13', 'ps_car_14', 'ps_car_15', 'ps_calc_01',\n",
              "       'ps_calc_02', 'ps_calc_03', 'ps_calc_04', 'ps_calc_05', 'ps_calc_06',\n",
              "       'ps_calc_07', 'ps_calc_08', 'ps_calc_09', 'ps_calc_10', 'ps_calc_11',\n",
              "       'ps_calc_12', 'ps_calc_13', 'ps_calc_14', 'ps_calc_15_bin',\n",
              "       'ps_calc_16_bin', 'ps_calc_17_bin', 'ps_calc_18_bin', 'ps_calc_19_bin',\n",
              "       'ps_calc_20_bin', 'target'],\n",
              "      dtype='object')"
            ]
          },
          "metadata": {
            "tags": []
          },
          "execution_count": 7
        }
      ]
    },
    {
      "cell_type": "markdown",
      "metadata": {
        "id": "jR9TzzK5zmkT",
        "colab_type": "text"
      },
      "source": [
        "## Defining Train and Test Data"
      ]
    },
    {
      "cell_type": "code",
      "metadata": {
        "id": "zr5h6geWlUIH",
        "colab_type": "code",
        "colab": {}
      },
      "source": [
        "X=df.iloc[:,:-1]\n",
        "y=df.iloc[:,-1]"
      ],
      "execution_count": 0,
      "outputs": []
    },
    {
      "cell_type": "code",
      "metadata": {
        "id": "xNeVGsFola6D",
        "colab_type": "code",
        "colab": {}
      },
      "source": [
        "X_train,X_test,y_train,y_test=train_test_split(X,y,test_size=0.2,random_state=100)"
      ],
      "execution_count": 0,
      "outputs": []
    },
    {
      "cell_type": "markdown",
      "metadata": {
        "id": "dVOHgr1szueo",
        "colab_type": "text"
      },
      "source": [
        "## Baseline 1: Decision Tree "
      ]
    },
    {
      "cell_type": "code",
      "metadata": {
        "id": "xlU9YYxqleNd",
        "colab_type": "code",
        "outputId": "a3cec1a7-1205-4807-d33f-f4356ea430ff",
        "colab": {
          "base_uri": "https://localhost:8080/",
          "height": 494
        }
      },
      "source": [
        "clf_dt=DecisionTreeClassifier(criterion=\"entropy\", random_state=10, max_depth=2, min_samples_leaf=4)\n",
        "clf_dt.fit(X_train,y_train)\n",
        "y_predict=clf_dt.predict(X_test)\n",
        "plot_confusion_matrix(clf_dt,X_test,y_test, cmap=plt.cm.Blues)\n",
        "print(classification_report(y_test, y_predict))"
      ],
      "execution_count": 10,
      "outputs": [
        {
          "output_type": "stream",
          "text": [
            "/usr/local/lib/python3.6/dist-packages/sklearn/metrics/_classification.py:1272: UndefinedMetricWarning: Precision and F-score are ill-defined and being set to 0.0 in labels with no predicted samples. Use `zero_division` parameter to control this behavior.\n",
            "  _warn_prf(average, modifier, msg_start, len(result))\n"
          ],
          "name": "stderr"
        },
        {
          "output_type": "stream",
          "text": [
            "              precision    recall  f1-score   support\n",
            "\n",
            "           0       0.96      1.00      0.98    114666\n",
            "           1       0.00      0.00      0.00      4377\n",
            "\n",
            "    accuracy                           0.96    119043\n",
            "   macro avg       0.48      0.50      0.49    119043\n",
            "weighted avg       0.93      0.96      0.95    119043\n",
            "\n"
          ],
          "name": "stdout"
        },
        {
          "output_type": "display_data",
          "data": {
            "image/png": "[encoded data removed]",
            "text/plain": [
              "<Figure size 432x288 with 2 Axes>"
            ]
          },
          "metadata": {
            "tags": [],
            "needs_background": "light"
          }
        }
      ]
    },
    {
      "cell_type": "code",
      "metadata": {
        "id": "U1VT5WqXxhFa",
        "colab_type": "code",
        "outputId": "0e50c33e-91cc-4c58-beb4-d016d89ab87e",
        "colab": {
          "base_uri": "https://localhost:8080/",
          "height": 52
        }
      },
      "source": [
        "score1=accuracy_score(y_test,y_predict)\n",
        "print(\"Accuracy (without cross-validation) : {}\".format(score1))\n",
        "\n",
        "score2 = cross_val_score(clf_dt, X_train, y_train, cv=5)\n",
        "print(\"Accuracy (after cross-validation): {} (+/- {})\".format(score2.mean(),score2.std()))"
      ],
      "execution_count": 11,
      "outputs": [
        {
          "output_type": "stream",
          "text": [
            "Accuracy (without cross-validation) : 0.9632317733928076\n",
            "Accuracy (after cross-validation): 0.9636326598411378 (+/- 5.083708955268357e-06)\n"
          ],
          "name": "stdout"
        }
      ]
    },
    {
      "cell_type": "code",
      "metadata": {
        "id": "DxitGXoyXrCE",
        "colab_type": "code",
        "outputId": "6a8cb82c-9088-4883-fc42-5394b10dd5fd",
        "colab": {
          "base_uri": "https://localhost:8080/",
          "height": 35
        }
      },
      "source": [
        "cohen_kappa_score(y_test, y_predict, labels=None, weights=None)"
      ],
      "execution_count": 12,
      "outputs": [
        {
          "output_type": "execute_result",
          "data": {
            "text/plain": [
              "0.0"
            ]
          },
          "metadata": {
            "tags": []
          },
          "execution_count": 12
        }
      ]
    },
    {
      "cell_type": "markdown",
      "metadata": {
        "id": "ZGwCOkSI05pw",
        "colab_type": "text"
      },
      "source": [
        "## Baseline 2: Random Forest"
      ]
    },
    {
      "cell_type": "code",
      "metadata": {
        "id": "slWbh4xSr7Fk",
        "colab_type": "code",
        "outputId": "184f7924-9657-4e61-9f74-287965e9d36c",
        "colab": {
          "base_uri": "https://localhost:8080/",
          "height": 438
        }
      },
      "source": [
        "clf_rf=RandomForestClassifier(n_jobs=2,random_state=0)\n",
        "clf_rf.fit(X_train,y_train)\n",
        "y_predict=clf_rf.predict(X_test)\n",
        "plot_confusion_matrix(clf_rf,X_test,y_test, cmap=plt.cm.Blues)\n",
        "print(classification_report(y_test, y_predict))"
      ],
      "execution_count": 13,
      "outputs": [
        {
          "output_type": "stream",
          "text": [
            "              precision    recall  f1-score   support\n",
            "\n",
            "           0       0.96      1.00      0.98    114666\n",
            "           1       0.50      0.00      0.00      4377\n",
            "\n",
            "    accuracy                           0.96    119043\n",
            "   macro avg       0.73      0.50      0.49    119043\n",
            "weighted avg       0.95      0.96      0.95    119043\n",
            "\n"
          ],
          "name": "stdout"
        },
        {
          "output_type": "display_data",
          "data": {
            "image/png": "[encoded data removed]",
            "text/plain": [
              "<Figure size 432x288 with 2 Axes>"
            ]
          },
          "metadata": {
            "tags": [],
            "needs_background": "light"
          }
        }
      ]
    },
    {
      "cell_type": "code",
      "metadata": {
        "id": "10r3YbRr1ILq",
        "colab_type": "code",
        "outputId": "6fcde49d-9637-4927-a805-25855d4dd481",
        "colab": {
          "base_uri": "https://localhost:8080/",
          "height": 52
        }
      },
      "source": [
        "score1_rf=accuracy_score(y_test,y_predict)\n",
        "print(\"Accuracy (without cross-validation) : {}\".format(score1_rf))\n",
        "\n",
        "score2_rf = cross_val_score(clf_rf, X_train, y_train, cv=5)\n",
        "print(\"Accuracy (after cross-validation): {} (+/- {})\".format(score2_rf.mean(),score2_rf.std()))"
      ],
      "execution_count": 14,
      "outputs": [
        {
          "output_type": "stream",
          "text": [
            "Accuracy (without cross-validation) : 0.9632317733928076\n",
            "Accuracy (after cross-validation): 0.9636347599314418 (+/- 1.5422809587414153e-05)\n"
          ],
          "name": "stdout"
        }
      ]
    },
    {
      "cell_type": "code",
      "metadata": {
        "id": "lNtnK6J5YCez",
        "colab_type": "code",
        "outputId": "3acf3659-5246-4466-f4b0-d3fed0a4fa9b",
        "colab": {
          "base_uri": "https://localhost:8080/",
          "height": 35
        }
      },
      "source": [
        "cohen_kappa_score(y_test, y_predict, labels=None, weights=None)"
      ],
      "execution_count": 15,
      "outputs": [
        {
          "output_type": "execute_result",
          "data": {
            "text/plain": [
              "0.0004231535345948778"
            ]
          },
          "metadata": {
            "tags": []
          },
          "execution_count": 15
        }
      ]
    },
    {
      "cell_type": "markdown",
      "metadata": {
        "id": "PoPnw6vT1tne",
        "colab_type": "text"
      },
      "source": [
        "## Partitioning the dataset into 10 bins, keeping the imbalance ratio from the original dataset "
      ]
    },
    {
      "cell_type": "code",
      "metadata": {
        "id": "3S-W-CxXESlX",
        "colab_type": "code",
        "outputId": "433b4242-1583-442f-f792-440ef2392453",
        "colab": {
          "base_uri": "https://localhost:8080/",
          "height": 88
        }
      },
      "source": [
        "#Original Imbalance\n",
        "\n",
        "target_count=df['target'].value_counts()\n",
        "print(target_count)\n",
        "\n",
        "imbalance_target=(target_count[0]/(target_count[0]+target_count[1]))*100\n",
        "print(imbalance_target)\n"
      ],
      "execution_count": 22,
      "outputs": [
        {
          "output_type": "stream",
          "text": [
            "0    573518\n",
            "1     21694\n",
            "Name: target, dtype: int64\n",
            "96.3552482140817\n"
          ],
          "name": "stdout"
        }
      ]
    },
    {
      "cell_type": "code",
      "metadata": {
        "id": "YgxebliAHrP3",
        "colab_type": "code",
        "colab": {}
      },
      "source": [
        "def create_bins (df,no_of_bins,orig_imbalance):\n",
        "  df_class0=df[df['target']==0]\n",
        "  df_class1=df[df['target']==1]\n",
        "\n",
        "  len0=int(len(df_class0)/no_of_bins)\n",
        "  len1=int(len(df_class1)/no_of_bins)\n",
        "\n",
        "  ind0=0\n",
        "  ind1=0\n",
        "  start0=0\n",
        "  start1=0\n",
        "\n",
        "  bins=[]\n",
        "\n",
        "  print(\"Original Imbalance in the dataset: {} %\".format(orig_imbalance))\n",
        "  for i in range(no_of_bins):\n",
        "    ind0+=len0\n",
        "    ind1+=len1\n",
        "    bin_=pd.concat([df_class1.iloc[start1:ind1,:],df_class0.iloc[start0:ind0,:]])\n",
        "    target_cnt=bin_['target'].value_counts()\n",
        "    imbalance=(target_cnt[0]/(target_cnt[0]+target_cnt[1]))*100\n",
        "    print(\"Class imbalance ratio in bin {} : {} %\".format(i,imbalance))\n",
        "    bins.append(bin_.values)\n",
        "    start0+=len0\n",
        "    start1+=len1\n",
        "\n",
        "  return bins\n",
        "\n"
      ],
      "execution_count": 0,
      "outputs": []
    },
    {
      "cell_type": "code",
      "metadata": {
        "id": "NxLmpvipLhWS",
        "colab_type": "code",
        "outputId": "e5003fb1-030f-4862-ce38-9adcded862ed",
        "colab": {
          "base_uri": "https://localhost:8080/",
          "height": 211
        }
      },
      "source": [
        "bins= create_bins(df,10, imbalance_target) #Partitioning the dataset into 10 bins"
      ],
      "execution_count": 31,
      "outputs": [
        {
          "output_type": "stream",
          "text": [
            "Original Imbalance in the dataset: 96.3552482140817 %\n",
            "Class imbalance ratio in bin 0 : 96.35584677419354 %\n",
            "Class imbalance ratio in bin 1 : 96.35584677419354 %\n",
            "Class imbalance ratio in bin 2 : 96.35584677419354 %\n",
            "Class imbalance ratio in bin 3 : 96.35584677419354 %\n",
            "Class imbalance ratio in bin 4 : 96.35584677419354 %\n",
            "Class imbalance ratio in bin 5 : 96.35584677419354 %\n",
            "Class imbalance ratio in bin 6 : 96.35584677419354 %\n",
            "Class imbalance ratio in bin 7 : 96.35584677419354 %\n",
            "Class imbalance ratio in bin 8 : 96.35584677419354 %\n",
            "Class imbalance ratio in bin 9 : 96.35584677419354 %\n"
          ],
          "name": "stdout"
        }
      ]
    },
    {
      "cell_type": "code",
      "metadata": {
        "id": "oHeyWOWr9qSR",
        "colab_type": "code",
        "colab": {}
      },
      "source": [
        "model_accuracies={} #A dictionary to save the accuracies for the different permutations of the bins\n",
        "model_kappa_scores={} #A dictionary to save the cohen kappa scores for the different permutations of the bins"
      ],
      "execution_count": 0,
      "outputs": []
    },
    {
      "cell_type": "markdown",
      "metadata": {
        "id": "8dN3FIS21bf-",
        "colab_type": "text"
      },
      "source": [
        "## Analyzing the number of clusters using Elbow method and Silhouette method"
      ]
    },
    {
      "cell_type": "code",
      "metadata": {
        "id": "wTXY79n0YkBg",
        "colab_type": "code",
        "outputId": "90e81d84-e3bb-4985-ac08-e121dd540dee",
        "colab": {
          "base_uri": "https://localhost:8080/",
          "height": 350
        }
      },
      "source": [
        "#***** CHANGE MANUALLY DURING EACH ITERATION *****#\n",
        "\n",
        "i=2 # The bin index to be left-out while training, and used only for testing \n",
        "\n",
        "#************************************************#\n",
        "\n",
        "#CREATE TESTING DATA\n",
        "\n",
        "leave_out=i #for indexing while saving the model accuracies to a dictionary\n",
        "test_data=bins[i] \n",
        "\n",
        "#CREATE TRAINING DATA\n",
        "\n",
        "compile9=np.vstack((bins[j] for j in range(10) if j!=i )) #combining data from all other bins except the left-out one\n",
        "data=pd.DataFrame(compile9)\n",
        "data.columns=columns\n",
        "mms=MinMaxScaler() #normalizing the data\n",
        "mms.fit(data)\n",
        "data_transformed=mms.transform(data)\n",
        "\n",
        "#ELBOW METHOD TO IDENTIFY THE NUMBER OF CLUSTERS\n",
        "\n",
        "Sum_of_squared_distances = []\n",
        "K = range(2,11)\n",
        "for k in K:\n",
        "    km = KMeans(n_clusters=k,random_state=1)\n",
        "    km = km.fit(data_transformed)\n",
        "    Sum_of_squared_distances.append(km.inertia_)\n",
        "plt.plot(K, Sum_of_squared_distances, 'bx-')\n",
        "plt.xlabel('k')\n",
        "plt.ylabel('Sum_of_squared_distances')\n",
        "plt.title('Elbow Method For Optimal k')\n",
        "plt.show()\n",
        "\n",
        "#SILHOUETTE METHOD TO IDENTIFY THE NUMBER OF CLUSTERS\n",
        "# K = range(2,11)\n",
        "# no_of_clusters=[]\n",
        "# silhouette_scores=[]\n",
        "\n",
        "# for k in K:\n",
        "#     km = KMeans(n_clusters=k,random_state=1)\n",
        "#     preds=km.fit_predict(data_transformed)\n",
        "#     centers=km.cluster_centers_\n",
        "\n",
        "#     score=silhouette_score(data_transformed,preds)\n",
        "\n",
        "#     no_of_clusters.append(k)\n",
        "#     silhouette_scores.append(score)\n",
        "\n",
        "# plt.ylabel(\"Silhouette coefficient\")\n",
        "# plt.xlabel(\"k\")\n",
        "# plt.title('Silhouette Method For Optimal k')\n",
        "# plt.bar(no_of_clusters,silhouette_scores)\n",
        "# plt.show()"
      ],
      "execution_count": 44,
      "outputs": [
        {
          "output_type": "stream",
          "text": [
            "/usr/local/lib/python3.6/dist-packages/ipykernel_launcher.py:13: FutureWarning: arrays to stack must be passed as a \"sequence\" type such as list or tuple. Support for non-sequence iterables such as generators is deprecated as of NumPy 1.16 and will raise an error in the future.\n",
            "  del sys.path[0]\n"
          ],
          "name": "stderr"
        },
        {
          "output_type": "display_data",
          "data": {
            "image/png": "[encoded data removed]",
            "text/plain": [
              "<Figure size 432x288 with 1 Axes>"
            ]
          },
          "metadata": {
            "tags": [],
            "needs_background": "light"
          }
        }
      ]
    },
    {
      "cell_type": "code",
      "metadata": {
        "id": "YaFWKeg9iHXD",
        "colab_type": "code",
        "outputId": "3493851b-d657-43cc-fe1d-e1a85c8903a3",
        "colab": {
          "base_uri": "https://localhost:8080/",
          "height": 35
        }
      },
      "source": [
        "#*****CHANGE MANUALLY DURING EACH ITERATION*****#\n",
        "\n",
        "num_of_clusters=7 #Decided after looking at the plots from the previous cell \n",
        "\n",
        "#***********************************************#\n",
        "\n",
        "min_class=0 # The minority class label\n",
        "max_class=1 # The majority class label\n",
        "\n",
        "#***********************************************#\n",
        "\n",
        "#FITTING A K-MEANS CLUSTERING MODEL\n",
        "\n",
        "kmeans = KMeans(n_clusters=num_of_clusters, random_state=1)\n",
        "kmeans.fit_predict(data_transformed)\n",
        "\n",
        "cluster_df=data\n",
        "cluster_df[\"Cluster label\"]=kmeans.labels_\n",
        "cols=list(cluster_df.columns)\n",
        "cols= cols[:-2] + [cols[-1]] + [cols[-2]]\n",
        "cluster_df=cluster_df[cols]\n",
        "  \n",
        "g=globals() #To facilitate naming dynamically\n",
        "\n",
        "#Filtering out the data belonging to each cluster\n",
        "\n",
        "for i in range(0,num_of_clusters):\n",
        "  g['cluster_{}'.format(i)] = cluster_df[cluster_df['Cluster label']==i]\n",
        "\n",
        "#Checking for number of entries from minority class in each cluster\n",
        "\n",
        "for i in range(0,num_of_clusters):\n",
        "  g['clus_{}_class_{}'.format(i,min_class)] = g['cluster_{}'.format(i)][g['cluster_{}'.format(i)]['target']==min_class]\n",
        "  if (len(g['clus_{}_class_{}'.format(i,min_class)])!=0):\n",
        "    g['X{}'.format(i)]=g['cluster_{}'.format(i)].iloc[:,:-1]\n",
        "    g['y{}'.format(i)]=g['cluster_{}'.format(i)].iloc[:,-1]\n",
        "    g['clf_{}'.format(i)]=RandomForestClassifier(n_jobs=2,random_state=0)\n",
        "    g['clf_{}'.format(i)].fit(g['X{}'.format(i)],g['y{}'.format(i)])\n",
        "    g['Class_val_{}{}'.format(i,min_class)]=min_class\n",
        "  else:\n",
        "    g['Class_val_{}{}'.format(i,min_class)]=max_class\n",
        "  \n",
        "#CREATING THE TEST DATA\n",
        "\n",
        "test_cluster=pd.DataFrame(test_data)\n",
        "test_cluster.columns=df.columns\n",
        "test_cluster[\"Cluster label\"]=kmeans.predict(test_data)\n",
        "cols=list(test_cluster.columns)\n",
        "cols= cols[:-2] + [cols[-1]] + [cols[-2]]\n",
        "test_cluster=test_cluster[cols]\n",
        "\n",
        "#Dividing the results based on cluster label, to predict the class labels of the corresponding entries\n",
        "\n",
        "for i in range(0,num_of_clusters):\n",
        "  g['test_{}'.format(i)] = test_cluster[test_cluster['Cluster label']==i]\n",
        "  if(len(g['test_{}'.format(i)])!=0):\n",
        "    if(g['Class_val_{}{}'.format(i,min_class)]==min_class): #Checking if the dataset contains values from both the classes\n",
        "      g['X_test{}'.format(i)]=g['test_{}'.format(i)].iloc[:,:-1]\n",
        "      g['y_test{}'.format(i)]=g['test_{}'.format(i)].iloc[:,-1]\n",
        "      g['y_pred{}'.format(i)]=g['clf_{}'.format(i)].predict(g['X_test{}'.format(i)])\n",
        "      g['test_{}'.format(i)]['Predicted class']=g['y_pred{}'.format(i)]\n",
        "    else:\n",
        "      g['y_pred{}'.format(i)]=np.full(len(g['test_{}'.format(i)]),max_class)\n",
        "      g['test_{}'.format(i)]['Predicted class']=g['y_pred{}'.format(i)]\n",
        "\n",
        "#Compiling the results and predictions for performance checking\n",
        "\n",
        "final_test=pd.concat([g['test_{}'.format(i)] for i in range(0,num_of_clusters) if(len(g['test_{}'.format(i)])!=0)])\n",
        "trial_accuracy=accuracy_score(final_test.iloc[:,-2],final_test.iloc[:,-1]) #computing accuracy based on real class labels\n",
        "print(\"Accuracy : {}\".format(trial_accuracy))\n",
        "\n",
        "model_accuracies[leave_out]=trial_accuracy #Saving the accuracy for this permutation\n",
        "trial_kappa =cohen_kappa_score(y_test, y_predict, labels=None, weights=None)\n",
        "model_kappa_scores[leave_out]=trial_kappa #Saving the cohen kappa score for this permutation"
      ],
      "execution_count": 45,
      "outputs": [
        {
          "output_type": "stream",
          "text": [
            "Accuracy : 0.9635584677419354\n"
          ],
          "name": "stdout"
        }
      ]
    },
    {
      "cell_type": "code",
      "metadata": {
        "id": "ZlYDsUHA-AAF",
        "colab_type": "code",
        "colab": {}
      },
      "source": [
        "# model_accuracies"
      ],
      "execution_count": 0,
      "outputs": []
    },
    {
      "cell_type": "code",
      "metadata": {
        "id": "cDH6TbHwZdcc",
        "colab_type": "code",
        "colab": {}
      },
      "source": [
        "# model_kappa_scores"
      ],
      "execution_count": 0,
      "outputs": []
    },
    {
      "cell_type": "code",
      "metadata": {
        "id": "FI30qLWYsBby",
        "colab_type": "code",
        "colab": {}
      },
      "source": [
        "acc_values=np.array([model_accuracies[k] for k in model_accuracies])\n",
        "#acc_values"
      ],
      "execution_count": 0,
      "outputs": []
    },
    {
      "cell_type": "code",
      "metadata": {
        "id": "eoG7cXXtECgF",
        "colab_type": "code",
        "outputId": "079e8aa9-ed17-4507-f2ef-fb24fec917fd",
        "colab": {
          "base_uri": "https://localhost:8080/",
          "height": 123
        }
      },
      "source": [
        "print(\"Decision Tree model:\")\n",
        "print(\"Accuracy (after cross-validation): {} (+/- {})\".format(score2.mean(),score2.std()))\n",
        "print(\"Random Forest model:\")\n",
        "print(\"Accuracy (after cross-validation): {} (+/- {})\".format(score2_rf.mean(),score2_rf.std()))\n",
        "print(\"New model:\")\n",
        "print(\"Accuracy : {} (+/- {})\".format(acc_values.mean(),acc_values.std()))"
      ],
      "execution_count": 55,
      "outputs": [
        {
          "output_type": "stream",
          "text": [
            "Decision Tree model:\n",
            "Accuracy (after cross-validation): 0.9636326598411378 (+/- 5.083708955268357e-06)\n",
            "Random Forest model:\n",
            "Accuracy (after cross-validation): 0.9636347599314418 (+/- 1.5422809587414153e-05)\n",
            "New model:\n",
            "Accuracy : 0.9631216397849461 (+/- 0.0006177680211978861)\n"
          ],
          "name": "stdout"
        }
      ]
    },
    {
      "cell_type": "code",
      "metadata": {
        "id": "86nYZ_F2EKJT",
        "colab_type": "code",
        "colab": {}
      },
      "source": [
        "kappa_values=np.array([model_kappa_scores[k] for k in model_kappa_scores])\n",
        "#kappa_values"
      ],
      "execution_count": 0,
      "outputs": []
    },
    {
      "cell_type": "code",
      "metadata": {
        "id": "bLSUAp_PhYRg",
        "colab_type": "code",
        "outputId": "617d2fc8-aa81-4660-d59e-cf18afaa825d",
        "colab": {
          "base_uri": "https://localhost:8080/",
          "height": 88
        }
      },
      "source": [
        "print(\"Kappa Scores:\")\n",
        "print(\"Decision Tree: 0.0\")\n",
        "print(\"Random Forest: 0.0004231535345948778\")\n",
        "print(\"New Model: {}\".format(kappa_values.mean()))"
      ],
      "execution_count": 57,
      "outputs": [
        {
          "output_type": "stream",
          "text": [
            "Kappa Scores:\n",
            "Decision Tree: 0.0\n",
            "Random Forest: 0.0004231535345948778\n",
            "New Model: 0.0004231535345948778\n"
          ],
          "name": "stdout"
        }
      ]
    },
    {
      "cell_type": "code",
      "metadata": {
        "id": "WfUTLgeMhkfm",
        "colab_type": "code",
        "colab": {}
      },
      "source": [
        ""
      ],
      "execution_count": 0,
      "outputs": []
    }
  ]
}